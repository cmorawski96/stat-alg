{
 "cells": [
  {
   "cell_type": "markdown",
   "metadata": {},
   "source": [
    "<h4>Ściągnij plik csv z https://extranet.who.int/tme/generateCSV.asp?ds=mdr_estimates. Zaimportuj wybraną\n",
    "kolumnę numeryczną z pliku do Pythona. Oblicz podstawowe statystyki dla zaimportowanych danych.</h4>"
   ]
  },
  {
   "cell_type": "code",
   "execution_count": 1,
   "metadata": {
    "scrolled": false
   },
   "outputs": [
    {
     "name": "stdout",
     "output_type": "stream",
     "text": [
      "       iso_numeric    year  source_drs_year_new  e_rr_pct_new  \\\n",
      "count   215.000000   215.0           215.000000    215.000000   \n",
      "mean    433.200000  2019.0          2017.297674      3.512140   \n",
      "std     253.222672     0.0             3.139252      5.987073   \n",
      "min       4.000000  2019.0          2005.000000      0.000000   \n",
      "25%     213.000000  2019.0          2017.000000      0.955000   \n",
      "50%     434.000000  2019.0          2019.000000      2.200000   \n",
      "75%     644.500000  2019.0          2019.000000      2.600000   \n",
      "max     894.000000  2019.0          2019.000000     38.000000   \n",
      "\n",
      "       e_rr_pct_new_lo  e_rr_pct_new_hi  e_mdr_pct_rr_new  \\\n",
      "count       215.000000       215.000000        215.000000   \n",
      "mean          2.438791        11.982791         83.316279   \n",
      "std           5.628021        20.325138         19.979019   \n",
      "min           0.000000         0.500000          0.000000   \n",
      "25%           0.200000         3.150000         76.000000   \n",
      "50%           0.890000         4.100000         86.000000   \n",
      "75%           1.500000         8.200000         97.000000   \n",
      "max          35.000000        98.000000        100.000000   \n",
      "\n",
      "       source_drs_year_ret  e_rr_pct_ret  e_rr_pct_ret_lo  e_rr_pct_ret_hi  \\\n",
      "count           215.000000    215.000000       215.000000       215.000000   \n",
      "mean           2017.265116     15.951628         9.861535        30.727442   \n",
      "std               2.826682     17.013919        12.275926        24.546761   \n",
      "min            2005.000000      0.000000         0.000000         4.500000   \n",
      "25%            2017.000000      6.650000         1.750000        16.000000   \n",
      "50%            2019.000000     12.000000         7.300000        19.000000   \n",
      "75%            2019.000000     18.000000        10.000000        41.000000   \n",
      "max            2019.000000    100.000000        73.000000       100.000000   \n",
      "\n",
      "       e_mdr_pct_rr_ret   e_inc_rr_num  e_inc_rr_num_lo  e_inc_rr_num_hi  \\\n",
      "count        215.000000     215.000000       215.000000       215.000000   \n",
      "mean          85.334884    2164.976744      1338.204651      3200.627907   \n",
      "std           20.357998   10355.802947      6503.912749     15249.525121   \n",
      "min            0.000000       0.000000         0.000000         0.000000   \n",
      "25%           80.500000       3.000000         1.000000        10.000000   \n",
      "50%           94.000000      74.000000        30.000000       120.000000   \n",
      "75%          100.000000     635.000000       350.000000      1100.000000   \n",
      "max          100.000000  124000.000000     73000.000000    189000.000000   \n",
      "\n",
      "       e_mdr_pct_rr  e_rr_in_notified_labconf_pulm  \\\n",
      "count    199.000000                     204.000000   \n",
      "mean      81.000000                     958.460784   \n",
      "std       22.210426                    4511.624079   \n",
      "min        0.000000                       0.000000   \n",
      "25%       74.000000                       2.000000   \n",
      "50%       88.000000                      47.500000   \n",
      "75%       95.500000                     272.500000   \n",
      "max      100.000000                   48000.000000   \n",
      "\n",
      "       e_rr_in_notified_labconf_pulm_lo  e_rr_in_notified_labconf_pulm_hi  \n",
      "count                        204.000000                        204.000000  \n",
      "mean                         818.754902                       1104.544118  \n",
      "std                         4041.710263                       5009.761894  \n",
      "min                            0.000000                          0.000000  \n",
      "25%                            0.000000                          6.000000  \n",
      "50%                           21.000000                         64.000000  \n",
      "75%                          170.000000                        360.000000  \n",
      "max                        42000.000000                      53000.000000  \n"
     ]
    }
   ],
   "source": [
    "import numpy as np\n",
    "import scipy as sp\n",
    "import pandas as pd\n",
    "\n",
    "data = pd.read_csv('MDR_RR_TB_burden_estimates_2020-11-18.csv')\n",
    "\n",
    "d = data.describe()\n",
    "\n",
    "print(d)"
   ]
  },
  {
   "cell_type": "markdown",
   "metadata": {},
   "source": [
    "<hr>\n",
    "<h4>Wgraj plik Wzrost.csv. Użyj dla niego funkcji z modułu statistics. Czym różnią się funkcje dotyczące wariancji i\n",
    "odchylenia standardowego?</h4>"
   ]
  },
  {
   "cell_type": "code",
   "execution_count": 2,
   "metadata": {},
   "outputs": [
    {
     "name": "stdout",
     "output_type": "stream",
     "text": [
      "16.42182908777933\n",
      "269.6764705882353\n"
     ]
    }
   ],
   "source": [
    "import pandas as pd\n",
    "import numpy as np\n",
    "import statistics as stat\n",
    "\n",
    "data = np.loadtxt('Wzrost.csv', delimiter=',',skiprows=0)\n",
    "\n",
    "print(stat.stdev(data))\n",
    "print(stat.variance(data))"
   ]
  },
  {
   "cell_type": "markdown",
   "metadata": {},
   "source": [
    "<hr><h4>Znajdź dowolny plik csv. Zastosuj do niego statystyki z biblioteki scipy.stats. Sprawdź, jakie inne statystyki\n",
    "opisowe można znaleźć w tej bibliotece.</h4>"
   ]
  },
  {
   "cell_type": "code",
   "execution_count": 9,
   "metadata": {},
   "outputs": [
    {
     "name": "stdout",
     "output_type": "stream",
     "text": [
      "    mies   pepsi  fanta   żywiec  okocim  regionalne    cola   lech\n",
      "0      1  119110   41386  186272   64398       55561  215468  68673\n",
      "1      2  107424   45669  178564   61847       48793  233941  68483\n",
      "2      3  105748   47373  183368   53390       63907  229677  63300\n",
      "3      4  115377   39395  184326   60062       58531  234246  61943\n",
      "4      5  103003   42477  182190   63736       51395  219392  64189\n",
      "5      6  102809   47224  183115   52596       55149  219600  63343\n",
      "6      7  106890   45185  184858   54457       52977  225857  63466\n",
      "7      8  103613   38748  185559   61437       61143  226311  68841\n",
      "8      9  112709   34145  186496   62945       59051  232491  65195\n",
      "9     10  112780   37407  182187   67979       60212  235802  57058\n",
      "10    11  113206   51504  191763   61462       55311  221554  54589\n",
      "11    12  107777   41005  183566   62182       64720  223153  56674\n",
      "Trimmed mean:  92924.92708333333\n",
      "Variance:  [0.531085   0.04657539 0.11068637 0.01648981 0.07444321 0.08196032\n",
      " 0.02861259 0.07250305]\n",
      "Skewness:  [ 0.          0.39480589  0.07781449  0.61477375 -0.51789136 -0.06758553\n",
      " -0.06013935 -0.42422368]\n",
      "Kurtosis:  [-1.21678322 -1.01184985 -0.72050894  1.11805656 -0.69722555 -0.92453488\n",
      " -1.30469138 -0.90242497]\n"
     ]
    },
    {
     "data": {
      "text/plain": [
       "Ttest_1sampResult(statistic=45.744625500651935, pvalue=6.664160581339529e-14)"
      ]
     },
     "execution_count": 9,
     "metadata": {},
     "output_type": "execute_result"
    }
   ],
   "source": [
    "import pandas as pd\n",
    "from scipy import stats as scs\n",
    "\n",
    "dane = pd.read_csv(\"napoje_po_reklamie.csv\", sep=';', na_values='.')\n",
    "\n",
    "mean = scs.tmean(dane)\n",
    "var = scs.variation(dane)\n",
    "skew = scs.skew(dane)\n",
    "kurt = scs.kurtosis(dane)\n",
    "\n",
    "print(dane)\n",
    "print(\"Trimmed mean: \", mean)\n",
    "print(\"Variance: \",var)\n",
    "print(\"Skewness: \",skew)\n",
    "print(\"Kurtosis: \",kurt)\n",
    "\n",
    "stats.ttest_1samp(dane['lech'],0)\n",
    "\n",
    "# Full list of functions in stats -> https://docs.scipy.org/doc/scipy/reference/stats.html"
   ]
  },
  {
   "cell_type": "markdown",
   "metadata": {},
   "source": [
    "<hr><h4>Załaduj plik brain_size.csv do pandas DataFrame. Znajdź średnią dla kolumny VIQ. Ile kobiet i mężczyzn jest\n",
    "wyróżnionych w pliku. Wyświetl histogramy dla zmiennych VIQ, PIQ, FSIQ. Wyświetl histogramy trzech\n",
    "kolumn tylko dla kobiet.</h4>"
   ]
  },
  {
   "cell_type": "code",
   "execution_count": 12,
   "metadata": {},
   "outputs": [
    {
     "name": "stdout",
     "output_type": "stream",
     "text": [
      "Mean of VIQ column:  112.35\n",
      "The count of genders:  Male      20\n",
      "Female    20\n",
      "Name: Gender, dtype: int64\n"
     ]
    },
    {
     "data": {
      "image/png": "[encoded data removed]",
      "text/plain": [
       "<Figure size 432x288 with 1 Axes>"
      ]
     },
     "metadata": {
      "needs_background": "light"
     },
     "output_type": "display_data"
    },
    {
     "data": {
      "image/png": "[encoded data removed]",
      "text/plain": [
       "<Figure size 432x288 with 1 Axes>"
      ]
     },
     "metadata": {
      "needs_background": "light"
     },
     "output_type": "display_data"
    },
    {
     "data": {
      "image/png": "[encoded data removed]",
      "text/plain": [
       "<Figure size 432x288 with 1 Axes>"
      ]
     },
     "metadata": {
      "needs_background": "light"
     },
     "output_type": "display_data"
    },
    {
     "data": {
      "image/png": "[encoded data removed]",
      "text/plain": [
       "<Figure size 432x288 with 1 Axes>"
      ]
     },
     "metadata": {
      "needs_background": "light"
     },
     "output_type": "display_data"
    }
   ],
   "source": [
    "import pandas as pd\n",
    "import matplotlib.pyplot as plt\n",
    "\n",
    "data = pd.read_csv('brain_size.csv', sep=';', na_values='.');\n",
    "print('Mean of VIQ column: ',data['VIQ'].mean())\n",
    "count_of_genders = data['Gender'].value_counts()\n",
    "print(\"The count of genders: \", count_of_genders)\n",
    "\n",
    "hist1 = data['VIQ'].hist(bins=3)\n",
    "plt.show()\n",
    "hist2 = data['PIQ'].hist(bins=3)\n",
    "plt.show()\n",
    "hist3 = data['FSIQ'].hist(bins=3)\n",
    "plt.show()\n",
    "\n",
    "data[data['Gender'] == 'Female']['VIQ'].hist()\n",
    "data[data['Gender'] == 'Female']['PIQ'].hist()\n",
    "data[data['Gender'] == 'Female']['FSIQ'].hist()\n",
    "plt.show()"
   ]
  },
  {
   "cell_type": "code",
   "execution_count": null,
   "metadata": {},
   "outputs": [],
   "source": []
  }
 ],
 "metadata": {
  "kernelspec": {
   "display_name": "Python 3",
   "language": "python",
   "name": "python3"
  },
  "language_info": {
   "codemirror_mode": {
    "name": "ipython",
    "version": 3
   },
   "file_extension": ".py",
   "mimetype": "text/x-python",
   "name": "python",
   "nbconvert_exporter": "python",
   "pygments_lexer": "ipython3",
   "version": "3.8.3"
  }
 },
 "nbformat": 4,
 "nbformat_minor": 4
}
